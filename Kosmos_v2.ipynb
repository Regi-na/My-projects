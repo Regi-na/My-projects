{
  "nbformat": 4,
  "nbformat_minor": 0,
  "metadata": {
    "colab": {
      "name": "Kosmos v2.ipynb",
      "provenance": [],
      "collapsed_sections": []
    },
    "kernelspec": {
      "name": "python3",
      "display_name": "Python 3"
    }
  },
  "cells": [
    {
      "cell_type": "code",
      "metadata": {
        "id": "KZuEBMOlfAyq"
      },
      "source": [
        "grimport pandas as pd\n",
        "from datetime import timedelta\n",
        "import seaborn as sns\n",
        "import matplotlib.pyplot as plt"
      ],
      "execution_count": null,
      "outputs": []
    },
    {
      "cell_type": "code",
      "metadata": {
        "id": "Uco14p5MfDpp"
      },
      "source": [
        "predictions= pd.read_csv('predictions.csv')\n",
        "results= pd.read_csv('game_results.csv')\n",
        "users= pd.read_csv('users.csv')"
      ],
      "execution_count": null,
      "outputs": []
    },
    {
      "cell_type": "markdown",
      "metadata": {
        "id": "Psgy3D8qkpLJ"
      },
      "source": [
        "# Задание 1"
      ]
    },
    {
      "cell_type": "code",
      "metadata": {
        "id": "7LjHbfkxfYJM"
      },
      "source": [
        "results['timestamp'] = pd.to_datetime(results.timestamp)\n",
        "users['create_time'] = pd.to_datetime(users.create_time)\n",
        "users.rename(columns={'id': 'user_id'}, inplace=True)\n",
        "predictions.rename(columns={'id': 'user_id'}, inplace=True)"
      ],
      "execution_count": null,
      "outputs": []
    },
    {
      "cell_type": "markdown",
      "metadata": {
        "id": "Ori-WooBcUjq"
      },
      "source": [
        "Проверка на пропущенные значения\n",
        "\n",
        "\n"
      ]
    },
    {
      "cell_type": "code",
      "metadata": {
        "id": "JfB5DMjHYetm",
        "colab": {
          "base_uri": "https://localhost:8080/",
          "height": 187
        },
        "outputId": "31f768c6-ce2f-4e0a-da9c-66015db0240a"
      },
      "source": [
        "results.isna().sum()"
      ],
      "execution_count": null,
      "outputs": [
        {
          "output_type": "execute_result",
          "data": {
            "text/plain": [
              "id              0\n",
              "user_id         0\n",
              "timestamp       0\n",
              "winner          0\n",
              "length          0\n",
              "magic_used      0\n",
              "player_cards    0\n",
              "round           0\n",
              "type            0\n",
              "dtype: int64"
            ]
          },
          "metadata": {
            "tags": []
          },
          "execution_count": 18
        }
      ]
    },
    {
      "cell_type": "code",
      "metadata": {
        "id": "e7lmOU0gbgDz",
        "colab": {
          "base_uri": "https://localhost:8080/",
          "height": 68
        },
        "outputId": "f7e2d304-6521-4ff5-8316-f523c2b243fd"
      },
      "source": [
        "predictions.isna().sum()"
      ],
      "execution_count": null,
      "outputs": [
        {
          "output_type": "execute_result",
          "data": {
            "text/plain": [
              "user_id       0\n",
              "prediction    0\n",
              "dtype: int64"
            ]
          },
          "metadata": {
            "tags": []
          },
          "execution_count": 19
        }
      ]
    },
    {
      "cell_type": "code",
      "metadata": {
        "id": "Rd6SHsT4bg3z",
        "colab": {
          "base_uri": "https://localhost:8080/",
          "height": 68
        },
        "outputId": "230c70a8-826c-4935-99a6-93e4d9ccd43e"
      },
      "source": [
        "users.isna().sum()"
      ],
      "execution_count": null,
      "outputs": [
        {
          "output_type": "execute_result",
          "data": {
            "text/plain": [
              "user_id        0\n",
              "create_time    0\n",
              "dtype: int64"
            ]
          },
          "metadata": {
            "tags": []
          },
          "execution_count": 20
        }
      ]
    },
    {
      "cell_type": "markdown",
      "metadata": {
        "id": "rK5jhTs_cgWG"
      },
      "source": [
        "Общая информация по данным"
      ]
    },
    {
      "cell_type": "code",
      "metadata": {
        "id": "XYPgAZVVbbfy",
        "colab": {
          "base_uri": "https://localhost:8080/",
          "height": 35
        },
        "outputId": "0a70b596-1b74-47f0-acce-f48703aef783"
      },
      "source": [
        "results.user_id.nunique()"
      ],
      "execution_count": null,
      "outputs": [
        {
          "output_type": "execute_result",
          "data": {
            "text/plain": [
              "5289"
            ]
          },
          "metadata": {
            "tags": []
          },
          "execution_count": 11
        }
      ]
    },
    {
      "cell_type": "code",
      "metadata": {
        "id": "oNIy-n7AbnPW",
        "colab": {
          "base_uri": "https://localhost:8080/",
          "height": 35
        },
        "outputId": "2b2aad6d-d910-4b48-ea50-808c5ae24e92"
      },
      "source": [
        "users.user_id.nunique()"
      ],
      "execution_count": null,
      "outputs": [
        {
          "output_type": "execute_result",
          "data": {
            "text/plain": [
              "4899"
            ]
          },
          "metadata": {
            "tags": []
          },
          "execution_count": 12
        }
      ]
    },
    {
      "cell_type": "code",
      "metadata": {
        "id": "Qxyisr8pb3_G",
        "colab": {
          "base_uri": "https://localhost:8080/",
          "height": 288
        },
        "outputId": "370ab5d2-ed00-4c32-c4b1-685fd1c61c48"
      },
      "source": [
        "users.describe()"
      ],
      "execution_count": null,
      "outputs": [
        {
          "output_type": "execute_result",
          "data": {
            "text/html": [
              "<div>\n",
              "<style scoped>\n",
              "    .dataframe tbody tr th:only-of-type {\n",
              "        vertical-align: middle;\n",
              "    }\n",
              "\n",
              "    .dataframe tbody tr th {\n",
              "        vertical-align: top;\n",
              "    }\n",
              "\n",
              "    .dataframe thead th {\n",
              "        text-align: right;\n",
              "    }\n",
              "</style>\n",
              "<table border=\"1\" class=\"dataframe\">\n",
              "  <thead>\n",
              "    <tr style=\"text-align: right;\">\n",
              "      <th></th>\n",
              "      <th>user_id</th>\n",
              "    </tr>\n",
              "  </thead>\n",
              "  <tbody>\n",
              "    <tr>\n",
              "      <th>count</th>\n",
              "      <td>4899.000000</td>\n",
              "    </tr>\n",
              "    <tr>\n",
              "      <th>mean</th>\n",
              "      <td>226364.241070</td>\n",
              "    </tr>\n",
              "    <tr>\n",
              "      <th>std</th>\n",
              "      <td>4675.010082</td>\n",
              "    </tr>\n",
              "    <tr>\n",
              "      <th>min</th>\n",
              "      <td>218490.000000</td>\n",
              "    </tr>\n",
              "    <tr>\n",
              "      <th>25%</th>\n",
              "      <td>222367.500000</td>\n",
              "    </tr>\n",
              "    <tr>\n",
              "      <th>50%</th>\n",
              "      <td>226189.000000</td>\n",
              "    </tr>\n",
              "    <tr>\n",
              "      <th>75%</th>\n",
              "      <td>230372.000000</td>\n",
              "    </tr>\n",
              "    <tr>\n",
              "      <th>max</th>\n",
              "      <td>234754.000000</td>\n",
              "    </tr>\n",
              "  </tbody>\n",
              "</table>\n",
              "</div>"
            ],
            "text/plain": [
              "             user_id\n",
              "count    4899.000000\n",
              "mean   226364.241070\n",
              "std      4675.010082\n",
              "min    218490.000000\n",
              "25%    222367.500000\n",
              "50%    226189.000000\n",
              "75%    230372.000000\n",
              "max    234754.000000"
            ]
          },
          "metadata": {
            "tags": []
          },
          "execution_count": 13
        }
      ]
    },
    {
      "cell_type": "code",
      "metadata": {
        "id": "-VElCFwhcmLz",
        "colab": {
          "base_uri": "https://localhost:8080/",
          "height": 288
        },
        "outputId": "781e3e34-2eba-41dd-8f41-afea9780dabc"
      },
      "source": [
        "results.describe()"
      ],
      "execution_count": null,
      "outputs": [
        {
          "output_type": "execute_result",
          "data": {
            "text/html": [
              "<div>\n",
              "<style scoped>\n",
              "    .dataframe tbody tr th:only-of-type {\n",
              "        vertical-align: middle;\n",
              "    }\n",
              "\n",
              "    .dataframe tbody tr th {\n",
              "        vertical-align: top;\n",
              "    }\n",
              "\n",
              "    .dataframe thead th {\n",
              "        text-align: right;\n",
              "    }\n",
              "</style>\n",
              "<table border=\"1\" class=\"dataframe\">\n",
              "  <thead>\n",
              "    <tr style=\"text-align: right;\">\n",
              "      <th></th>\n",
              "      <th>id</th>\n",
              "      <th>user_id</th>\n",
              "      <th>winner</th>\n",
              "      <th>length</th>\n",
              "      <th>magic_used</th>\n",
              "      <th>player_cards</th>\n",
              "      <th>round</th>\n",
              "      <th>type</th>\n",
              "    </tr>\n",
              "  </thead>\n",
              "  <tbody>\n",
              "    <tr>\n",
              "      <th>count</th>\n",
              "      <td>8.127330e+05</td>\n",
              "      <td>812733.000000</td>\n",
              "      <td>812733.000000</td>\n",
              "      <td>812733.000000</td>\n",
              "      <td>812733.000000</td>\n",
              "      <td>812733.00000</td>\n",
              "      <td>812733.000000</td>\n",
              "      <td>812733.000000</td>\n",
              "    </tr>\n",
              "    <tr>\n",
              "      <th>mean</th>\n",
              "      <td>9.971101e+06</td>\n",
              "      <td>226233.891426</td>\n",
              "      <td>0.819289</td>\n",
              "      <td>195.261083</td>\n",
              "      <td>0.144990</td>\n",
              "      <td>26.81591</td>\n",
              "      <td>1.863282</td>\n",
              "      <td>1.162766</td>\n",
              "    </tr>\n",
              "    <tr>\n",
              "      <th>std</th>\n",
              "      <td>4.354077e+06</td>\n",
              "      <td>4724.630244</td>\n",
              "      <td>0.384779</td>\n",
              "      <td>100.548128</td>\n",
              "      <td>0.586117</td>\n",
              "      <td>20.47685</td>\n",
              "      <td>0.808618</td>\n",
              "      <td>0.382593</td>\n",
              "    </tr>\n",
              "    <tr>\n",
              "      <th>min</th>\n",
              "      <td>2.187140e+05</td>\n",
              "      <td>218490.000000</td>\n",
              "      <td>0.000000</td>\n",
              "      <td>0.000000</td>\n",
              "      <td>0.000000</td>\n",
              "      <td>0.00000</td>\n",
              "      <td>0.000000</td>\n",
              "      <td>1.000000</td>\n",
              "    </tr>\n",
              "    <tr>\n",
              "      <th>25%</th>\n",
              "      <td>6.773015e+06</td>\n",
              "      <td>222209.000000</td>\n",
              "      <td>1.000000</td>\n",
              "      <td>137.000000</td>\n",
              "      <td>0.000000</td>\n",
              "      <td>8.00000</td>\n",
              "      <td>1.000000</td>\n",
              "      <td>1.000000</td>\n",
              "    </tr>\n",
              "    <tr>\n",
              "      <th>50%</th>\n",
              "      <td>1.015677e+07</td>\n",
              "      <td>225946.000000</td>\n",
              "      <td>1.000000</td>\n",
              "      <td>176.000000</td>\n",
              "      <td>0.000000</td>\n",
              "      <td>17.00000</td>\n",
              "      <td>2.000000</td>\n",
              "      <td>1.000000</td>\n",
              "    </tr>\n",
              "    <tr>\n",
              "      <th>75%</th>\n",
              "      <td>1.327150e+07</td>\n",
              "      <td>230377.000000</td>\n",
              "      <td>1.000000</td>\n",
              "      <td>227.000000</td>\n",
              "      <td>0.000000</td>\n",
              "      <td>52.00000</td>\n",
              "      <td>3.000000</td>\n",
              "      <td>1.000000</td>\n",
              "    </tr>\n",
              "    <tr>\n",
              "      <th>max</th>\n",
              "      <td>1.921282e+07</td>\n",
              "      <td>234754.000000</td>\n",
              "      <td>1.000000</td>\n",
              "      <td>19437.000000</td>\n",
              "      <td>25.000000</td>\n",
              "      <td>52.00000</td>\n",
              "      <td>6.000000</td>\n",
              "      <td>4.000000</td>\n",
              "    </tr>\n",
              "  </tbody>\n",
              "</table>\n",
              "</div>"
            ],
            "text/plain": [
              "                 id        user_id  ...          round           type\n",
              "count  8.127330e+05  812733.000000  ...  812733.000000  812733.000000\n",
              "mean   9.971101e+06  226233.891426  ...       1.863282       1.162766\n",
              "std    4.354077e+06    4724.630244  ...       0.808618       0.382593\n",
              "min    2.187140e+05  218490.000000  ...       0.000000       1.000000\n",
              "25%    6.773015e+06  222209.000000  ...       1.000000       1.000000\n",
              "50%    1.015677e+07  225946.000000  ...       2.000000       1.000000\n",
              "75%    1.327150e+07  230377.000000  ...       3.000000       1.000000\n",
              "max    1.921282e+07  234754.000000  ...       6.000000       4.000000\n",
              "\n",
              "[8 rows x 8 columns]"
            ]
          },
          "metadata": {
            "tags": []
          },
          "execution_count": 14
        }
      ]
    },
    {
      "cell_type": "code",
      "metadata": {
        "id": "qThJhSh4Ov7J",
        "colab": {
          "base_uri": "https://localhost:8080/",
          "height": 1000
        },
        "outputId": "ee1be9ab-c74e-4df6-cc9b-78dbb2109171"
      },
      "source": [
        "pair_grid_plot = sns.PairGrid(results)\n",
        "pair_grid_plot.map(plt.scatter);"
      ],
      "execution_count": null,
      "outputs": [
        {
          "output_type": "display_data",
          "data": {
            "image/png": "[encoded data removed]",
            "text/plain": [
              "<Figure size 1440x1440 with 64 Axes>"
            ]
          },
          "metadata": {
            "tags": [],
            "needs_background": "light"
          }
        }
      ]
    },
    {
      "cell_type": "code",
      "metadata": {
        "id": "8LuKZS0jKBhj",
        "colab": {
          "base_uri": "https://localhost:8080/",
          "height": 432
        },
        "outputId": "3d999091-00b3-433f-8ada-6f68c41e7c1b"
      },
      "source": [
        "corr = results.corr()\n",
        "f,ax = plt.subplots(figsize=(9,6))\n",
        "sns.heatmap(corr, annot = True, linewidths=1.5 , fmt = '.2f',ax=ax,  cmap=\"YlGnBu\")\n",
        "plt.show()"
      ],
      "execution_count": null,
      "outputs": [
        {
          "output_type": "display_data",
          "data": {
            "image/png": "[encoded data removed]",
            "text/plain": [
              "<Figure size 648x432 with 2 Axes>"
            ]
          },
          "metadata": {
            "tags": [],
            "needs_background": "light"
          }
        }
      ]
    },
    {
      "cell_type": "code",
      "metadata": {
        "id": "E4J4t83o8b73"
      },
      "source": [
        "full_table=results.merge(users, left_on='user_id',  right_on='user_id')"
      ],
      "execution_count": null,
      "outputs": []
    },
    {
      "cell_type": "code",
      "metadata": {
        "id": "yz_vUE9NAXKH"
      },
      "source": [
        "full_table['edge'] = full_table.create_time + timedelta(hours=24)"
      ],
      "execution_count": null,
      "outputs": []
    },
    {
      "cell_type": "code",
      "metadata": {
        "id": "RqVF38JkD1Z5"
      },
      "source": [
        "table = full_table[full_table['timestamp'] <= full_table['edge']]"
      ],
      "execution_count": null,
      "outputs": []
    },
    {
      "cell_type": "code",
      "metadata": {
        "id": "p_TCGuo_THp-",
        "colab": {
          "base_uri": "https://localhost:8080/",
          "height": 288
        },
        "outputId": "10109b0b-d24b-48e2-a4a7-65b991da0bed"
      },
      "source": [
        "table.describe()"
      ],
      "execution_count": null,
      "outputs": [
        {
          "output_type": "execute_result",
          "data": {
            "text/html": [
              "<div>\n",
              "<style scoped>\n",
              "    .dataframe tbody tr th:only-of-type {\n",
              "        vertical-align: middle;\n",
              "    }\n",
              "\n",
              "    .dataframe tbody tr th {\n",
              "        vertical-align: top;\n",
              "    }\n",
              "\n",
              "    .dataframe thead th {\n",
              "        text-align: right;\n",
              "    }\n",
              "</style>\n",
              "<table border=\"1\" class=\"dataframe\">\n",
              "  <thead>\n",
              "    <tr style=\"text-align: right;\">\n",
              "      <th></th>\n",
              "      <th>id</th>\n",
              "      <th>user_id</th>\n",
              "      <th>winner</th>\n",
              "      <th>length</th>\n",
              "      <th>magic_used</th>\n",
              "      <th>player_cards</th>\n",
              "      <th>round</th>\n",
              "      <th>type</th>\n",
              "    </tr>\n",
              "  </thead>\n",
              "  <tbody>\n",
              "    <tr>\n",
              "      <th>count</th>\n",
              "      <td>6.337300e+04</td>\n",
              "      <td>63373.000000</td>\n",
              "      <td>63373.000000</td>\n",
              "      <td>63373.000000</td>\n",
              "      <td>63373.000000</td>\n",
              "      <td>63373.000000</td>\n",
              "      <td>63373.000000</td>\n",
              "      <td>63373.000000</td>\n",
              "    </tr>\n",
              "    <tr>\n",
              "      <th>mean</th>\n",
              "      <td>8.436394e+06</td>\n",
              "      <td>226157.999022</td>\n",
              "      <td>0.865952</td>\n",
              "      <td>243.418128</td>\n",
              "      <td>0.654285</td>\n",
              "      <td>31.201426</td>\n",
              "      <td>1.893993</td>\n",
              "      <td>1.086299</td>\n",
              "    </tr>\n",
              "    <tr>\n",
              "      <th>std</th>\n",
              "      <td>4.269840e+06</td>\n",
              "      <td>4804.250479</td>\n",
              "      <td>0.340706</td>\n",
              "      <td>154.903685</td>\n",
              "      <td>1.337843</td>\n",
              "      <td>20.725312</td>\n",
              "      <td>0.817191</td>\n",
              "      <td>0.303128</td>\n",
              "    </tr>\n",
              "    <tr>\n",
              "      <th>min</th>\n",
              "      <td>2.187140e+05</td>\n",
              "      <td>218490.000000</td>\n",
              "      <td>0.000000</td>\n",
              "      <td>1.000000</td>\n",
              "      <td>0.000000</td>\n",
              "      <td>0.000000</td>\n",
              "      <td>0.000000</td>\n",
              "      <td>1.000000</td>\n",
              "    </tr>\n",
              "    <tr>\n",
              "      <th>25%</th>\n",
              "      <td>4.971035e+06</td>\n",
              "      <td>222055.000000</td>\n",
              "      <td>1.000000</td>\n",
              "      <td>164.000000</td>\n",
              "      <td>0.000000</td>\n",
              "      <td>10.000000</td>\n",
              "      <td>1.000000</td>\n",
              "      <td>1.000000</td>\n",
              "    </tr>\n",
              "    <tr>\n",
              "      <th>50%</th>\n",
              "      <td>8.676189e+06</td>\n",
              "      <td>225919.000000</td>\n",
              "      <td>1.000000</td>\n",
              "      <td>219.000000</td>\n",
              "      <td>0.000000</td>\n",
              "      <td>32.000000</td>\n",
              "      <td>2.000000</td>\n",
              "      <td>1.000000</td>\n",
              "    </tr>\n",
              "    <tr>\n",
              "      <th>75%</th>\n",
              "      <td>1.193158e+07</td>\n",
              "      <td>230319.000000</td>\n",
              "      <td>1.000000</td>\n",
              "      <td>284.000000</td>\n",
              "      <td>1.000000</td>\n",
              "      <td>52.000000</td>\n",
              "      <td>3.000000</td>\n",
              "      <td>1.000000</td>\n",
              "    </tr>\n",
              "    <tr>\n",
              "      <th>max</th>\n",
              "      <td>1.587660e+07</td>\n",
              "      <td>234754.000000</td>\n",
              "      <td>1.000000</td>\n",
              "      <td>19437.000000</td>\n",
              "      <td>25.000000</td>\n",
              "      <td>52.000000</td>\n",
              "      <td>5.000000</td>\n",
              "      <td>4.000000</td>\n",
              "    </tr>\n",
              "  </tbody>\n",
              "</table>\n",
              "</div>"
            ],
            "text/plain": [
              "                 id        user_id  ...         round          type\n",
              "count  6.337300e+04   63373.000000  ...  63373.000000  63373.000000\n",
              "mean   8.436394e+06  226157.999022  ...      1.893993      1.086299\n",
              "std    4.269840e+06    4804.250479  ...      0.817191      0.303128\n",
              "min    2.187140e+05  218490.000000  ...      0.000000      1.000000\n",
              "25%    4.971035e+06  222055.000000  ...      1.000000      1.000000\n",
              "50%    8.676189e+06  225919.000000  ...      2.000000      1.000000\n",
              "75%    1.193158e+07  230319.000000  ...      3.000000      1.000000\n",
              "max    1.587660e+07  234754.000000  ...      5.000000      4.000000\n",
              "\n",
              "[8 rows x 8 columns]"
            ]
          },
          "metadata": {
            "tags": []
          },
          "execution_count": 20
        }
      ]
    },
    {
      "cell_type": "code",
      "metadata": {
        "id": "SRlp7-gcdvwp",
        "colab": {
          "base_uri": "https://localhost:8080/",
          "height": 34
        },
        "outputId": "dfd44b4d-512f-4bfa-888e-525e81315c47"
      },
      "source": [
        "table.user_id.nunique()"
      ],
      "execution_count": null,
      "outputs": [
        {
          "output_type": "execute_result",
          "data": {
            "text/plain": [
              "4670"
            ]
          },
          "metadata": {
            "tags": []
          },
          "execution_count": 24
        }
      ]
    },
    {
      "cell_type": "code",
      "metadata": {
        "id": "1eBW66R4EJym"
      },
      "source": [
        "user_features=table.drop(['id','timestamp','create_time','edge'], axis=1)"
      ],
      "execution_count": null,
      "outputs": []
    },
    {
      "cell_type": "code",
      "metadata": {
        "id": "MWaq_hiYM1Qb",
        "colab": {
          "base_uri": "https://localhost:8080/",
          "height": 204
        },
        "outputId": "50b2a627-daab-48c3-a4d9-c97c3e1c5ea0"
      },
      "source": [
        "user_features.head()"
      ],
      "execution_count": null,
      "outputs": [
        {
          "output_type": "execute_result",
          "data": {
            "text/html": [
              "<div>\n",
              "<style scoped>\n",
              "    .dataframe tbody tr th:only-of-type {\n",
              "        vertical-align: middle;\n",
              "    }\n",
              "\n",
              "    .dataframe tbody tr th {\n",
              "        vertical-align: top;\n",
              "    }\n",
              "\n",
              "    .dataframe thead th {\n",
              "        text-align: right;\n",
              "    }\n",
              "</style>\n",
              "<table border=\"1\" class=\"dataframe\">\n",
              "  <thead>\n",
              "    <tr style=\"text-align: right;\">\n",
              "      <th></th>\n",
              "      <th>user_id</th>\n",
              "      <th>winner</th>\n",
              "      <th>length</th>\n",
              "      <th>magic_used</th>\n",
              "      <th>player_cards</th>\n",
              "      <th>round</th>\n",
              "      <th>type</th>\n",
              "    </tr>\n",
              "  </thead>\n",
              "  <tbody>\n",
              "    <tr>\n",
              "      <th>0</th>\n",
              "      <td>218490</td>\n",
              "      <td>1.0</td>\n",
              "      <td>375.0</td>\n",
              "      <td>7.0</td>\n",
              "      <td>52.0</td>\n",
              "      <td>1.0</td>\n",
              "      <td>1.0</td>\n",
              "    </tr>\n",
              "    <tr>\n",
              "      <th>1</th>\n",
              "      <td>218490</td>\n",
              "      <td>1.0</td>\n",
              "      <td>475.0</td>\n",
              "      <td>3.0</td>\n",
              "      <td>41.0</td>\n",
              "      <td>2.0</td>\n",
              "      <td>1.0</td>\n",
              "    </tr>\n",
              "    <tr>\n",
              "      <th>2</th>\n",
              "      <td>218490</td>\n",
              "      <td>1.0</td>\n",
              "      <td>476.0</td>\n",
              "      <td>0.0</td>\n",
              "      <td>13.0</td>\n",
              "      <td>3.0</td>\n",
              "      <td>1.0</td>\n",
              "    </tr>\n",
              "    <tr>\n",
              "      <th>3</th>\n",
              "      <td>218490</td>\n",
              "      <td>1.0</td>\n",
              "      <td>329.0</td>\n",
              "      <td>2.0</td>\n",
              "      <td>52.0</td>\n",
              "      <td>1.0</td>\n",
              "      <td>1.0</td>\n",
              "    </tr>\n",
              "    <tr>\n",
              "      <th>4</th>\n",
              "      <td>218490</td>\n",
              "      <td>1.0</td>\n",
              "      <td>389.0</td>\n",
              "      <td>2.0</td>\n",
              "      <td>20.0</td>\n",
              "      <td>2.0</td>\n",
              "      <td>1.0</td>\n",
              "    </tr>\n",
              "  </tbody>\n",
              "</table>\n",
              "</div>"
            ],
            "text/plain": [
              "   user_id  winner  length  magic_used  player_cards  round  type\n",
              "0   218490     1.0   375.0         7.0          52.0    1.0   1.0\n",
              "1   218490     1.0   475.0         3.0          41.0    2.0   1.0\n",
              "2   218490     1.0   476.0         0.0          13.0    3.0   1.0\n",
              "3   218490     1.0   329.0         2.0          52.0    1.0   1.0\n",
              "4   218490     1.0   389.0         2.0          20.0    2.0   1.0"
            ]
          },
          "metadata": {
            "tags": []
          },
          "execution_count": 12
        }
      ]
    },
    {
      "cell_type": "code",
      "metadata": {
        "id": "c0DHjeHBkP8J",
        "colab": {
          "base_uri": "https://localhost:8080/",
          "height": 607
        },
        "outputId": "d471ddec-e66b-47a0-a4a3-c1aec08a85ef"
      },
      "source": [
        "results.hist(figsize=(10,10),bins=10);"
      ],
      "execution_count": null,
      "outputs": [
        {
          "output_type": "display_data",
          "data": {
            "image/png": "[encoded data removed]",
            "text/plain": [
              "<Figure size 720x720 with 9 Axes>"
            ]
          },
          "metadata": {
            "tags": [],
            "needs_background": "light"
          }
        }
      ]
    },
    {
      "cell_type": "code",
      "metadata": {
        "id": "1RMw3dTEQrgv"
      },
      "source": [
        "user_features.to_csv('user_features.csv')"
      ],
      "execution_count": null,
      "outputs": []
    },
    {
      "cell_type": "markdown",
      "metadata": {
        "id": "GKkI8Hu-khTs"
      },
      "source": [
        "# Задание 2"
      ]
    },
    {
      "cell_type": "code",
      "metadata": {
        "id": "6Fc79S2hSdfk"
      },
      "source": [
        "from sklearn import tree, ensemble, linear_model, preprocessing\n",
        "from sklearn.tree import DecisionTreeClassifier\n",
        "from graphviz import Source\n",
        "import os\n",
        "from sklearn.ensemble import BaggingClassifier, RandomForestClassifier\n",
        "from IPython.display import display, SVG, Image\n",
        "from sklearn.model_selection import train_test_split, GridSearchCV, cross_val_score\n",
        "from sklearn.metrics import precision_score, recall_score, roc_curve, roc_auc_score, confusion_matrix, mean_squared_error, r2_score"
      ],
      "execution_count": null,
      "outputs": []
    },
    {
      "cell_type": "code",
      "metadata": {
        "id": "l9y8jJf_V-hy"
      },
      "source": [
        "with_predictions = user_features.merge(predictions, left_on='user_id',  right_on='user_id',how='left')"
      ],
      "execution_count": null,
      "outputs": []
    },
    {
      "cell_type": "code",
      "metadata": {
        "id": "gK1iLDVosAEF"
      },
      "source": [
        "with_predictions_mean = with_predictions.groupby('user_id').mean()\n",
        "with_predictions_median = with_predictions.groupby('user_id').median()"
      ],
      "execution_count": null,
      "outputs": []
    },
    {
      "cell_type": "code",
      "metadata": {
        "id": "VaEpwsK4Ql1z"
      },
      "source": [
        "train_set = with_predictions_mean[with_predictions_mean['prediction'].isna()==False]\n",
        "test_set = with_predictions_mean[with_predictions_mean['prediction'].isna()==True]\n",
        "train_set_parameters = train_set[['winner', 'round','player_cards']]\n",
        "train_set_predictions = train_set['prediction']\n",
        "test_set_parameters = test_set[['winner', 'round','player_cards']]"
      ],
      "execution_count": null,
      "outputs": []
    },
    {
      "cell_type": "code",
      "metadata": {
        "id": "e6OPYKiTiJhC"
      },
      "source": [
        "X_train, X_test, y_train, y_test = train_test_split(train_set_parameters, train_set_predictions, test_size=0.4)"
      ],
      "execution_count": null,
      "outputs": []
    },
    {
      "cell_type": "markdown",
      "metadata": {
        "id": "8B0emi4NoMb9"
      },
      "source": [
        "`Дерево решений`"
      ]
    },
    {
      "cell_type": "code",
      "metadata": {
        "id": "j7OHyidUJwRZ",
        "colab": {
          "base_uri": "https://localhost:8080/",
          "height": 34
        },
        "outputId": "2e84cd54-252c-484a-a498-b2945f045a6d"
      },
      "source": [
        "my_tree = DecisionTreeClassifier(criterion='entropy')\n",
        "cross_val_score(my_tree, X_train, y_train, cv=3).mean()"
      ],
      "execution_count": null,
      "outputs": [
        {
          "output_type": "execute_result",
          "data": {
            "text/plain": [
              "0.6401756936871441"
            ]
          },
          "metadata": {
            "tags": []
          },
          "execution_count": 465
        }
      ]
    },
    {
      "cell_type": "code",
      "metadata": {
        "id": "N6Up10TK52fR",
        "colab": {
          "base_uri": "https://localhost:8080/",
          "height": 123
        },
        "outputId": "315a8fb5-1c1b-400e-a70f-17c0ea5161b3"
      },
      "source": [
        "my_tree.fit(X_train,y_train)\n",
        "X_test['predicted_with_tree'] = my_tree.predict(X_test)"
      ],
      "execution_count": null,
      "outputs": [
        {
          "output_type": "stream",
          "text": [
            "/usr/local/lib/python3.6/dist-packages/ipykernel_launcher.py:2: SettingWithCopyWarning: \n",
            "A value is trying to be set on a copy of a slice from a DataFrame.\n",
            "Try using .loc[row_indexer,col_indexer] = value instead\n",
            "\n",
            "See the caveats in the documentation: https://pandas.pydata.org/pandas-docs/stable/user_guide/indexing.html#returning-a-view-versus-a-copy\n",
            "  \n"
          ],
          "name": "stderr"
        }
      ]
    },
    {
      "cell_type": "code",
      "metadata": {
        "id": "fAzu2SndyKXY",
        "colab": {
          "base_uri": "https://localhost:8080/",
          "height": 123
        },
        "outputId": "f4d59e56-a910-41d4-bde1-8eb0529c6e94"
      },
      "source": [
        "clf=BaggingClassifier()\n",
        "bagging = BaggingClassifier(base_estimator=clf, n_estimators=100, max_features=int((X_train.shape[1])**0.5)).fit(X_train,y_train)\n",
        "cross_val_score(bagging, X_train, y_train, cv=3).mean()\n",
        "X_test['predicted_with_bagging'] = bagging.predict(X_test.iloc[:,0:3])"
      ],
      "execution_count": null,
      "outputs": [
        {
          "output_type": "stream",
          "text": [
            "/usr/local/lib/python3.6/dist-packages/ipykernel_launcher.py:4: SettingWithCopyWarning: \n",
            "A value is trying to be set on a copy of a slice from a DataFrame.\n",
            "Try using .loc[row_indexer,col_indexer] = value instead\n",
            "\n",
            "See the caveats in the documentation: https://pandas.pydata.org/pandas-docs/stable/user_guide/indexing.html#returning-a-view-versus-a-copy\n",
            "  after removing the cwd from sys.path.\n"
          ],
          "name": "stderr"
        }
      ]
    },
    {
      "cell_type": "code",
      "metadata": {
        "id": "KRoQeXVVrxyk",
        "colab": {
          "base_uri": "https://localhost:8080/",
          "height": 34
        },
        "outputId": "f0565c0d-5b70-414a-bd13-ece02fd91ae5"
      },
      "source": [
        "forest = ensemble.RandomForestClassifier()\n",
        "cross_val_score(forest, X_train, y_train, cv=3).mean()\n"
      ],
      "execution_count": null,
      "outputs": [
        {
          "output_type": "execute_result",
          "data": {
            "text/plain": [
              "0.6656052344601964"
            ]
          },
          "metadata": {
            "tags": []
          },
          "execution_count": 468
        }
      ]
    },
    {
      "cell_type": "code",
      "metadata": {
        "id": "WsGl-AuqW3Wu",
        "colab": {
          "base_uri": "https://localhost:8080/",
          "height": 137
        },
        "outputId": "180cc4e6-53f4-4eb0-bf47-ed115e1d4291"
      },
      "source": [
        "parameters={'n_estimators':[10,20,30], 'max_depth':[2,5,7,10],'min_samples_leaf':range(1,7),\n",
        "            'min_samples_split':range(2,9,2)}\n",
        "grid_search_cv_clf=GridSearchCV(forest,parameters,cv=3).fit(X_train, y_train)\n",
        "best_clf = grid_search_cv_clf.best_estimator_\n",
        "feature_importances = best_clf.feature_importances_\n",
        "pd.DataFrame({'features': list(X_train),'feature_importances': feature_importances}).sort_values('feature_importances', ascending=False)"
      ],
      "execution_count": null,
      "outputs": [
        {
          "output_type": "execute_result",
          "data": {
            "text/html": [
              "<div>\n",
              "<style scoped>\n",
              "    .dataframe tbody tr th:only-of-type {\n",
              "        vertical-align: middle;\n",
              "    }\n",
              "\n",
              "    .dataframe tbody tr th {\n",
              "        vertical-align: top;\n",
              "    }\n",
              "\n",
              "    .dataframe thead th {\n",
              "        text-align: right;\n",
              "    }\n",
              "</style>\n",
              "<table border=\"1\" class=\"dataframe\">\n",
              "  <thead>\n",
              "    <tr style=\"text-align: right;\">\n",
              "      <th></th>\n",
              "      <th>features</th>\n",
              "      <th>feature_importances</th>\n",
              "    </tr>\n",
              "  </thead>\n",
              "  <tbody>\n",
              "    <tr>\n",
              "      <th>1</th>\n",
              "      <td>round</td>\n",
              "      <td>0.444281</td>\n",
              "    </tr>\n",
              "    <tr>\n",
              "      <th>0</th>\n",
              "      <td>winner</td>\n",
              "      <td>0.300446</td>\n",
              "    </tr>\n",
              "    <tr>\n",
              "      <th>2</th>\n",
              "      <td>player_cards</td>\n",
              "      <td>0.255273</td>\n",
              "    </tr>\n",
              "  </tbody>\n",
              "</table>\n",
              "</div>"
            ],
            "text/plain": [
              "       features  feature_importances\n",
              "1         round             0.444281\n",
              "0        winner             0.300446\n",
              "2  player_cards             0.255273"
            ]
          },
          "metadata": {
            "tags": []
          },
          "execution_count": 469
        }
      ]
    },
    {
      "cell_type": "code",
      "metadata": {
        "id": "wE539PPj5sbB",
        "colab": {
          "base_uri": "https://localhost:8080/",
          "height": 123
        },
        "outputId": "171bbbb3-cab2-44f8-858b-f52e08ff6d88"
      },
      "source": [
        "forest = ensemble.RandomForestClassifier().fit(X_train,y_train)\n",
        "X_test['predicted_with_forest'] = forest.predict(X_test.iloc[:,0:3])"
      ],
      "execution_count": null,
      "outputs": [
        {
          "output_type": "stream",
          "text": [
            "/usr/local/lib/python3.6/dist-packages/ipykernel_launcher.py:2: SettingWithCopyWarning: \n",
            "A value is trying to be set on a copy of a slice from a DataFrame.\n",
            "Try using .loc[row_indexer,col_indexer] = value instead\n",
            "\n",
            "See the caveats in the documentation: https://pandas.pydata.org/pandas-docs/stable/user_guide/indexing.html#returning-a-view-versus-a-copy\n",
            "  \n"
          ],
          "name": "stderr"
        }
      ]
    },
    {
      "cell_type": "code",
      "metadata": {
        "id": "G0IPHnFRwHSp"
      },
      "source": [
        "from sklearn.linear_model import LogisticRegression\n",
        "\n",
        "grid={\"C\":np.logspace(-3,10,1), \"penalty\":[\"l1\",\"l2\",\"elasticnet\"],\"class_weight\" : [\"None\",\"balanced\"],\"solver\":[\"newton-cg\", \"lbfgs\", \"liblinear\", \"sag\", \"saga\"]}\n",
        "logreg=LogisticRegression()\n",
        "logreg_cv=GridSearchCV(logreg,grid,cv=3)\n",
        "logreg_cv.fit(X_train,y_train)\n",
        "logreg_cv.best_estimator_\n",
        "clf = LogisticRegression(C=0.5, class_weight='balanced', penalty='l2',\n",
        "                    solver='lbfgs').fit(X_train,y_train)\n",
        "X_test['predicted_with_logreg']=clf.predict(X_test.iloc[:,:3])\n"
      ],
      "execution_count": null,
      "outputs": []
    },
    {
      "cell_type": "code",
      "metadata": {
        "id": "vutIBkNgOTY8",
        "colab": {
          "base_uri": "https://localhost:8080/",
          "height": 692
        },
        "outputId": "c39e804e-4a6f-421f-efb8-d7f5496cea6e"
      },
      "source": [
        "print('Training set:')\n",
        "for actual, predicted, descr in zip([my_tree.predict(X_train), bagging.predict(X_train), forest.predict(X_train),clf.predict(X_train)], \n",
        "                                    [y_train,y_train,y_train,y_train], \n",
        "                                    [\"predicted_with_tree:\", \"predicted_with_bagging:\", \"predicted_with_forest:\",\"predicted with logistic regression:\"]):\n",
        "    print(descr, \"accuracy =\", round(accuracy_score(actual, predicted),3))\n",
        "    print(descr, \"recall =\", round(recall_score(actual, predicted),3))\n",
        "    print(descr, \"precision =\", round(precision_score(actual, predicted),3))\n",
        "    print(descr, \"f1 =\", round(f1_score(actual, predicted),3))\n",
        "    print(descr, \"roc_auc_score =\", round(roc_auc_score(actual, predicted),3))\n",
        "print()\n",
        "\n",
        "print('Test set:')\n",
        "for actual, predicted, descr in zip([X_test['predicted_with_tree'], X_test['predicted_with_bagging'], X_test['predicted_with_forest'],X_test['predicted_with_logreg']], \n",
        "                                    [y_test,y_test,y_test], \n",
        "                                    [\"predicted_with_tree:\", \"predicted_with_bagging:\", \"predicted_with_forest:\",\"predicted with logistic regression:\"]):\n",
        "    print(descr, \"accuracy =\", round(accuracy_score(actual, predicted),3))\n",
        "    print(descr, \"recall =\", round(recall_score(actual, predicted),3))\n",
        "    print(descr, \"precision =\", round(precision_score(actual, predicted),3))\n",
        "    print(descr, \"f1 =\", round(f1_score(actual, predicted),3))\n",
        "    print(descr, \"roc_auc_score =\", round(roc_auc_score(actual, predicted),3))\n"
      ],
      "execution_count": null,
      "outputs": [
        {
          "output_type": "stream",
          "text": [
            "Training set:\n",
            "predicted_with_tree: accuracy = 0.863\n",
            "predicted_with_tree: recall = 0.88\n",
            "predicted_with_tree: precision = 0.61\n",
            "predicted_with_tree: f1 = 0.72\n",
            "predicted_with_tree: roc_auc_score = 0.869\n",
            "predicted_with_bagging: accuracy = 0.744\n",
            "predicted_with_bagging: recall = 0.715\n",
            "predicted_with_bagging: precision = 0.193\n",
            "predicted_with_bagging: f1 = 0.304\n",
            "predicted_with_bagging: roc_auc_score = 0.731\n",
            "predicted_with_forest: accuracy = 0.863\n",
            "predicted_with_forest: recall = 0.851\n",
            "predicted_with_forest: precision = 0.638\n",
            "predicted_with_forest: f1 = 0.729\n",
            "predicted_with_forest: roc_auc_score = 0.858\n",
            "predicted with logistic regression: accuracy = 0.618\n",
            "predicted with logistic regression: recall = 0.387\n",
            "predicted with logistic regression: precision = 0.544\n",
            "predicted with logistic regression: f1 = 0.452\n",
            "predicted with logistic regression: roc_auc_score = 0.582\n",
            "\n",
            "Test set:\n",
            "predicted_with_tree: accuracy = 0.669\n",
            "predicted_with_tree: recall = 0.323\n",
            "predicted_with_tree: precision = 0.23\n",
            "predicted_with_tree: f1 = 0.269\n",
            "predicted_with_tree: roc_auc_score = 0.536\n",
            "predicted_with_bagging: accuracy = 0.731\n",
            "predicted_with_bagging: recall = 0.472\n",
            "predicted_with_bagging: precision = 0.122\n",
            "predicted_with_bagging: f1 = 0.194\n",
            "predicted_with_bagging: roc_auc_score = 0.611\n",
            "predicted_with_forest: accuracy = 0.688\n",
            "predicted_with_forest: recall = 0.361\n",
            "predicted_with_forest: precision = 0.234\n",
            "predicted_with_forest: f1 = 0.284\n",
            "predicted_with_forest: roc_auc_score = 0.558\n"
          ],
          "name": "stdout"
        }
      ]
    },
    {
      "cell_type": "code",
      "metadata": {
        "id": "EC-f0KyIrSz7",
        "colab": {
          "base_uri": "https://localhost:8080/",
          "height": 52
        },
        "outputId": "18280857-9e3a-440a-c682-2b9dbd3df469"
      },
      "source": [
        "confusion_matrix(y_test,X_test['predicted_with_forest'])"
      ],
      "execution_count": null,
      "outputs": [
        {
          "output_type": "execute_result",
          "data": {
            "text/plain": [
              "array([[657, 115],\n",
              "       [213,  65]])"
            ]
          },
          "metadata": {
            "tags": []
          },
          "execution_count": 537
        }
      ]
    },
    {
      "cell_type": "code",
      "metadata": {
        "id": "9UWjlhllrjRT",
        "colab": {
          "base_uri": "https://localhost:8080/",
          "height": 52
        },
        "outputId": "b47ad688-56da-4d06-e413-06ab5056e463"
      },
      "source": [
        "confusion_matrix(y_test,X_test['predicted_with_tree'])"
      ],
      "execution_count": null,
      "outputs": [
        {
          "output_type": "execute_result",
          "data": {
            "text/plain": [
              "array([[638, 134],\n",
              "       [214,  64]])"
            ]
          },
          "metadata": {
            "tags": []
          },
          "execution_count": 538
        }
      ]
    },
    {
      "cell_type": "code",
      "metadata": {
        "id": "NeV9Kdg6r956",
        "colab": {
          "base_uri": "https://localhost:8080/",
          "height": 52
        },
        "outputId": "76db2c25-b2b1-4797-a519-442de00f2b5b"
      },
      "source": [
        "confusion_matrix(y_test,X_test['predicted_with_bagging'])"
      ],
      "execution_count": null,
      "outputs": [
        {
          "output_type": "execute_result",
          "data": {
            "text/plain": [
              "array([[734,  38],\n",
              "       [244,  34]])"
            ]
          },
          "metadata": {
            "tags": []
          },
          "execution_count": 539
        }
      ]
    },
    {
      "cell_type": "code",
      "metadata": {
        "id": "9DA1Y0lcs5nW",
        "colab": {
          "base_uri": "https://localhost:8080/",
          "height": 52
        },
        "outputId": "ceebec8a-47eb-4dd8-c82b-b5cac68e5a3f"
      },
      "source": [
        "\n",
        "confusion_matrix(y_test,clf.predict(X_test.iloc[:,:3]))"
      ],
      "execution_count": null,
      "outputs": [
        {
          "output_type": "execute_result",
          "data": {
            "text/plain": [
              "array([[499, 273],\n",
              "       [153, 125]])"
            ]
          },
          "metadata": {
            "tags": []
          },
          "execution_count": 540
        }
      ]
    },
    {
      "cell_type": "code",
      "metadata": {
        "id": "tKUn94caxo2N"
      },
      "source": [
        "test_set['predicted_with_tree'] = my_tree.predict(test_set[['winner', 'round', 'player_cards']])\n",
        "test_set['predicted_with_bagging'] = bagging.predict(test_set[['winner', 'round', 'player_cards']])\n",
        "test_set['predicted_with_logreg']=clf.predict(test_set[['winner', 'round', 'player_cards']])\n",
        "test_set['predicted_with_forest'] = forest.predict(test_set[['winner', 'round', 'player_cards']])"
      ],
      "execution_count": null,
      "outputs": []
    },
    {
      "cell_type": "code",
      "metadata": {
        "id": "VNylCsbAzT5K"
      },
      "source": [
        "test_set.drop(['prediction'],axis=1,inplace=True)\n",
        "test_set.to_csv('predictions.csv')"
      ],
      "execution_count": null,
      "outputs": []
    }
  ]
}